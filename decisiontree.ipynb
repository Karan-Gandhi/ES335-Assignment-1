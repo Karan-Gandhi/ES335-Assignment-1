{
 "cells": [
  {
   "cell_type": "code",
   "execution_count": 3,
   "metadata": {},
   "outputs": [
    {
     "name": "stdout",
     "output_type": "stream",
     "text": [
      "Accuracy: 0.6111111111111112\n",
      "\n",
      "Classification Report:\n",
      "               precision    recall  f1-score   support\n",
      "\n",
      "           1       0.25      0.22      0.24         9\n",
      "           2       0.50      0.56      0.53         9\n",
      "           3       0.25      0.11      0.15         9\n",
      "           4       0.67      0.89      0.76         9\n",
      "           5       0.80      0.89      0.84         9\n",
      "           6       0.90      1.00      0.95         9\n",
      "\n",
      "    accuracy                           0.61        54\n",
      "   macro avg       0.56      0.61      0.58        54\n",
      "weighted avg       0.56      0.61      0.58        54\n",
      "\n"
     ]
    }
   ],
   "source": [
    "import os\n",
    "import pandas as pd\n",
    "from sklearn.model_selection import train_test_split\n",
    "from sklearn.tree import DecisionTreeClassifier\n",
    "from sklearn.metrics import classification_report, accuracy_score\n",
    "from MakeDataset import X_train, X_test, y_train, y_test\n",
    "\n",
    "# Reshape the data to flatten the time-series dimension\n",
    "X_train_flat = X_train.reshape(X_train.shape[0], -1)  # Shape: (126, 1500)\n",
    "X_test_flat = X_test.reshape(X_test.shape[0], -1)  # Shape: (54, 1500)\n",
    "\n",
    "# Train a Decision Tree Classifier\n",
    "clf = DecisionTreeClassifier(random_state=42)\n",
    "clf.fit(X_train_flat, y_train)\n",
    "\n",
    "# Predictions and evaluation\n",
    "y_pred = clf.predict(X_test_flat)\n",
    "print(f\"Accuracy: {accuracy_score(y_test, y_pred)}\\n\")\n",
    "print(\"Classification Report:\\n\", classification_report(y_test, y_pred))\n"
   ]
  }
 ],
 "metadata": {
  "kernelspec": {
   "display_name": "Python 3",
   "language": "python",
   "name": "python3"
  },
  "language_info": {
   "codemirror_mode": {
    "name": "ipython",
    "version": 3
   },
   "file_extension": ".py",
   "mimetype": "text/x-python",
   "name": "python",
   "nbconvert_exporter": "python",
   "pygments_lexer": "ipython3",
   "version": "3.11.1"
  }
 },
 "nbformat": 4,
 "nbformat_minor": 2
}
