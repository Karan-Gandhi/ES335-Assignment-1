{
 "cells": [
  {
   "cell_type": "markdown",
   "metadata": {},
   "source": [
    "# Notebook to demonstrate Zero shot and Few shot Learning"
   ]
  },
  {
   "cell_type": "code",
   "execution_count": 1,
   "metadata": {},
   "outputs": [],
   "source": [
    "import pandas as pd \n",
    "from langchain_groq.chat_models import ChatGroq\n",
    "from dotenv import load_dotenv\n",
    "import os\n",
    "from typing import Union\n",
    "import sys\n",
    "sys.path.append(os.path.abspath('..'))\n",
    "import numpy as np\n",
    "import re"
   ]
  },
  {
   "cell_type": "code",
   "execution_count": 2,
   "metadata": {},
   "outputs": [],
   "source": [
    "activity_classes = [\"LAYING\", \"SITTING\", \"STANDING\", \"WALKING\", \"WALKING_DOWNSTAIRS\", \"WALKING_UPSTAIRS\"]\n",
    "\n",
    "def get_sample_data(path, files_per_activity=-1):\n",
    "    sample_data = []\n",
    "    for activity_class in activity_classes:\n",
    "        subpath = os.path.join(os.path.abspath('..'), path, activity_class)\n",
    "        files = os.listdir(subpath)\n",
    "        num_files = len(files) if files_per_activity == -1 else files_per_activity\n",
    "        for file in range(num_files):\n",
    "            sample_data.append(os.path.join(subpath, files[file]))\n",
    "    return sample_data\n",
    "\n",
    "def load_csv_files(directory, label, add_timestamp=True, add_total_acc=True, trim_data=True):\n",
    "    df_list = []\n",
    "    for filename in os.listdir(directory):\n",
    "        if filename.endswith('.csv'):\n",
    "            file_path = os.path.join(directory, filename)\n",
    "            df = pd.read_csv(file_path)\n",
    "            df['subject'] = filename.replace('.csv', '')\n",
    "            # 50 samples per second\n",
    "            # 1 sample takes 1/50 seconds\n",
    "            if add_timestamp:\n",
    "                df['timestamp'] = (df.index + 1) / 50\n",
    "            if add_total_acc:\n",
    "                df['total_acc'] = df['accx'] ** 2 + df['accy'] ** 2 + df['accz'] ** 2\n",
    "            if trim_data:\n",
    "                df_list.append(df.iloc[100:600, :])\n",
    "            else:\n",
    "                df_list.append(df)\n",
    "    combined_df = pd.concat(df_list, ignore_index=True)\n",
    "    combined_df['y'] = label\n",
    "    return combined_df\n",
    "\n",
    "def prepare_dataset(path):\n",
    "    train_path = os.path.join(path, \"Train\")\n",
    "    test_path = os.path.join(path, \"Test\")\n",
    "    \n",
    "    train_dfs = pd.concat([load_csv_files(os.path.join(train_path, activity_class), label) for label, activity_class in enumerate(activity_classes)])\n",
    "    test_dfs = pd.concat([load_csv_files(os.path.join(test_path, activity_class), label) for label, activity_class in enumerate(activity_classes)])\n",
    "    \n",
    "    return train_dfs, test_dfs\n",
    "\n",
    "def get_tsfel_features(tsfel_features_path):   \n",
    "    data = pd.DataFrame()\n",
    "    for label, activity_class in enumerate(activity_classes):\n",
    "        folder_path = os.path.join(tsfel_features_path, activity_class)\n",
    "        dfs = load_csv_files(folder_path, label, False, False, False)\n",
    "        data = pd.concat([data, dfs], axis=0, ignore_index=True)\n",
    "    return data"
   ]
  },
  {
   "cell_type": "code",
   "execution_count": 5,
   "metadata": {},
   "outputs": [],
   "source": [
    "class Example:\n",
    "    def __init__(self, data: Union[pd.DataFrame, None], classification: Union[str, None], modify=False, precision=None):\n",
    "        self.data = self.modify_data(data, precision) if modify else data\n",
    "        self.classification = classification\n",
    "        self.text = self.format_data_to_string(self.data)\n",
    "\n",
    "    @staticmethod\n",
    "    def modify_data(data: Union[pd.DataFrame, None], precision=None):\n",
    "        data = data.round(precision if precision is not None else 0) if data is not None else data\n",
    "        return data\n",
    "    \n",
    "    @staticmethod\n",
    "    def format_data_to_string(data: Union[pd.DataFrame, None]) -> str:\n",
    "        if data is not None:\n",
    "            array = data.to_numpy()\n",
    "            array_str = np.array2string(array, separator=',', threshold=np.inf, max_line_width=np.inf)\n",
    "            formatted_str = re.sub(r'[\\[\\]]', '', array_str).replace(' ', '')\n",
    "            return formatted_str\n",
    "        return ''"
   ]
  },
  {
   "cell_type": "code",
   "execution_count": 6,
   "metadata": {},
   "outputs": [],
   "source": [
    "titles = [activity.title().replace('_', ' ') for activity in activity_classes]"
   ]
  },
  {
   "cell_type": "code",
   "execution_count": 7,
   "metadata": {},
   "outputs": [],
   "source": [
    "load_dotenv()\n",
    "groq_models = {\"llama-3.1-8b-instant\": \"llama-3.1-8b-instant\", \"llama-3.1-70b-versatile\": \"llama-3.1-70b-versatile\", \"llama3-70b\": \"llama3-70b-8192\", \"mixtral\": \"mixtral-8x7b-32768\", \"gemma-7b\": \"gemma-7b-it\",\"llama3.1-70b\":\"llama-3.1-70b-versatile\",\"llama3-8b\":\"llama3-8b-8192\",\"llama3.1-8b\":\"llama-3.1-8b-instant\",\"gemma-9b\":\"gemma2-9b-it\"}"
   ]
  },
  {
   "cell_type": "code",
   "execution_count": 8,
   "metadata": {},
   "outputs": [
    {
     "name": "stdout",
     "output_type": "stream",
     "text": [
      "Loading feature data from c:\\Users\\Nishchay\\Desktop\\College\\ES 335 Machine Learning\\Assignments\\es335-24-fall-assignment-1\\Datasets\\UCI HAR Dataset\\train...\n",
      "Loading feature data from c:\\Users\\Nishchay\\Desktop\\College\\ES 335 Machine Learning\\Assignments\\es335-24-fall-assignment-1\\Datasets\\UCI HAR Dataset\\test...\n"
     ]
    }
   ],
   "source": [
    "from GenerateDataset import generate_dataset\n",
    "from MakeHARdataset import X_train, X_test, y_train, y_test\n",
    "\n",
    "def clean_data(folder: str = 'Train'):\n",
    "    dataset_features = generate_dataset(filepath=r\"C:\\Users\\Nishchay\\Desktop\\College\\ES 335 Machine Learning\\Assignments\\es335-24-fall-assignment-1\\Datasets\\UCI HAR Dataset\", folder=folder).columns\n",
    "    features = ['tBodyAcc_mean()_X', 'tBodyAcc_mean()_Y', 'tBodyAcc_mean()_Z', 'tGravityAcc_mean()_X', 'tGravityAcc_mean()_Y', 'tGravityAcc_mean()_Z', 'tBodyGyro_mean()_X', 'tBodyGyro_mean()_Y', 'tBodyGyro_mean()_Z', 'y']\n",
    "\n",
    "    X = X_train if folder != 'Test' else X_test\n",
    "    y = y_train if folder != 'Test' else y_test\n",
    "\n",
    "    dataframes = [pd.DataFrame(dataframe, columns=dataset_features[:-1]).assign(y=label) for dataframe, label in zip(X, y)]\n",
    "    labels = []\n",
    "    np.random.seed = 101\n",
    "    np.random.shuffle(dataframes)\n",
    "\n",
    "    for i in range(len(dataframes)):\n",
    "        labels.append(titles[int(dataframes[i].iloc[0, -1])])\n",
    "        dataframes[i] = dataframes[i][features[:-1]]\n",
    "        dataframes[i] = dataframes[i].iloc[10:20, :]\n",
    "\n",
    "    return dataframes, labels\n",
    "\n",
    "train_dataframes, train_labels = clean_data('Train')\n",
    "test_dataframes, test_labels = clean_data('Test')\n",
    "\n",
    "train_examples = [Example(dataframe, label, True, 3) for dataframe, label in zip(train_dataframes, train_labels)]\n",
    "test_examples = [Example(dataframe, label, True, 3) for dataframe, label in zip(test_dataframes, test_labels)]"
   ]
  },
  {
   "cell_type": "markdown",
   "metadata": {},
   "source": [
    "# Zero Shot"
   ]
  },
  {
   "cell_type": "code",
   "execution_count": 7,
   "metadata": {},
   "outputs": [],
   "source": [
    "model_name = \"llama-3.1-70b-versatile\"\n",
    "cur_api_key = 1\n",
    "\n",
    "query_str = \"\"\"You are given some values of the following features of a human, in order:\n",
    "1. tBodyAcc-mean()-X: Mean of the body acceleration signal in the X-axis (horizontal movement).\n",
    "2. tBodyAcc-mean()-Y: Mean of the body acceleration signal in the Y-axis (vertical movement).\n",
    "3. tBodyAcc-mean()-Z: Mean of the body acceleration signal in the Z-axis (lateral movement).\n",
    "4. tGravityAcc-mean()-X: Mean of the gravity acceleration signal in the X-axis.\n",
    "5. tGravityAcc-mean()-Y: Mean of the gravity acceleration signal in the Y-axis.\n",
    "6. tGravityAcc-mean()-Z: Mean of the gravity acceleration signal in the Z-axis.\n",
    "\n",
    "Now classify the below activities into one of these activities: Laying, Sitting, Standing, Walking, Walking Downstairs, Walking Upstairs. Make sure you limit your response for each activity to ONLY your classification, without providing any reasoning or justification for it. If you're not sure, return your best guess:\n",
    "\n",
    "\"\"\"\n",
    "\n",
    "test_template = \"\"\"\n",
    "=======================================================\n",
    "Activity {activity_number}:\n",
    "\n",
    "{activity}\n",
    "\n",
    "\"\"\"\n",
    "\n",
    "for cur_example, example in enumerate(test_examples):\n",
    "    query_str += test_template.format(activity_number=cur_example + 1, activity=example.text)\n",
    "\n",
    "response = None\n",
    "while not response:\n",
    "    try:\n",
    "        llm = ChatGroq(model=groq_models[model_name], api_key=os.environ[f'API_KEY_{cur_api_key}'], temperature=0)\n",
    "        response = llm.invoke(query_str).content.strip()\n",
    "    except:\n",
    "        cur_api_key = (cur_api_key % 5) + 1"
   ]
  },
  {
   "cell_type": "code",
   "execution_count": 8,
   "metadata": {},
   "outputs": [
    {
     "name": "stdout",
     "output_type": "stream",
     "text": [
      "Accuracy: 3.70%\n"
     ]
    }
   ],
   "source": [
    "classifications = response.split('\\n')\n",
    "classifications = [classification[classification.index('.')+2:] for classification in classifications]\n",
    "\n",
    "correct = sum(1 if classification == test_labels[i] else 0 for i, classification in enumerate(classifications))\n",
    "total = 54\n",
    "accuracy = correct / total\n",
    "\n",
    "accuracy *= 100\n",
    "print(f'Accuracy: {accuracy:.2f}%')"
   ]
  },
  {
   "cell_type": "code",
   "execution_count": 9,
   "metadata": {},
   "outputs": [
    {
     "name": "stdout",
     "output_type": "stream",
     "text": [
      "Standing\n",
      "Sitting\n",
      "\n",
      "Standing\n",
      "Walking Upstairs\n",
      "\n",
      "Walking\n",
      "Walking Upstairs\n",
      "\n",
      "Standing\n",
      "Laying\n",
      "\n",
      "Standing\n",
      "Standing\n",
      "\n",
      "Standing\n",
      "Sitting\n",
      "\n",
      "Standing\n",
      "Walking Downstairs\n",
      "\n",
      "Standing\n",
      "Standing\n",
      "\n"
     ]
    }
   ],
   "source": [
    "query_str = \"\"\"You are given some values of the following features of a human, in order:\n",
    "1. tBodyAcc-mean()-X: Mean of the body acceleration signal in the X-axis (horizontal movement).\n",
    "2. tBodyAcc-mean()-Y: Mean of the body acceleration signal in the Y-axis (vertical movement).\n",
    "3. tBodyAcc-mean()-Z: Mean of the body acceleration signal in the Z-axis (lateral movement).\n",
    "4. tGravityAcc-mean()-X: Mean of the gravity acceleration signal in the X-axis.\n",
    "5. tGravityAcc-mean()-Y: Mean of the gravity acceleration signal in the Y-axis.\n",
    "6. tGravityAcc-mean()-Z: Mean of the gravity acceleration signal in the Z-axis.\n",
    "\n",
    "Your task is to classify the activity into one of the following classes: Laying, Sitting, Standing, Walking, Walking Downstairs, Walking Upstairs.\n",
    "\n",
    "Now classify the below activity. Make sure you limit your response to ONLY your classification, without providing any reasoning or justification for it. If you're not sure, return your best guess:\n",
    "\n",
    "\"\"\"\n",
    "\n",
    "correct = 0\n",
    "total = 0\n",
    "cur_example = 0\n",
    "cur_api_key = 1\n",
    "\n",
    "while cur_example < len(test_examples):\n",
    "    try:\n",
    "        llm = ChatGroq(model=groq_models[model_name], api_key=os.environ[f'API_KEY_{cur_api_key}'], temperature=0)\n",
    "        response = llm.invoke(query_str + test_examples[cur_example].text).content.strip()\n",
    "        print(response)\n",
    "        print(test_examples[cur_example].classification)\n",
    "        print()\n",
    "\n",
    "        if response == test_examples[cur_example].classification:\n",
    "            correct += 1\n",
    "        total += 1\n",
    "        cur_example += 1\n",
    "    except:\n",
    "        cur_api_key = (cur_api_key % 5) + 1 \n",
    "\n",
    "accuracy = correct / total\n",
    "accuracy *= 100\n",
    "print(f'Accuracy: {accuracy:.2f}%')"
   ]
  },
  {
   "cell_type": "markdown",
   "metadata": {},
   "source": [
    "# Few Shot "
   ]
  },
  {
   "cell_type": "markdown",
   "metadata": {},
   "source": [
    "## Passing all tests together"
   ]
  },
  {
   "cell_type": "code",
   "execution_count": 9,
   "metadata": {},
   "outputs": [],
   "source": [
    "model_name = \"llama-3.1-70b-versatile\"\n",
    "cur_api_key = 1"
   ]
  },
  {
   "cell_type": "code",
   "execution_count": null,
   "metadata": {},
   "outputs": [],
   "source": [
    "query_str = \"\"\"You are given some values of the following features of a human, in order:\n",
    "1. tBodyAcc-mean()-X: Mean of the body acceleration signal in the X-axis (horizontal movement).\n",
    "2. tBodyAcc-mean()-Y: Mean of the body acceleration signal in the Y-axis (vertical movement).\n",
    "3. tBodyAcc-mean()-Z: Mean of the body acceleration signal in the Z-axis (lateral movement).\n",
    "4. tGravityAcc-mean()-X: Mean of the gravity acceleration signal in the X-axis.\n",
    "5. tGravityAcc-mean()-Y: Mean of the gravity acceleration signal in the Y-axis.\n",
    "6. tGravityAcc-mean()-Z: Mean of the gravity acceleration signal in the Z-axis.\n",
    "\n",
    "Your task is to classify the activity into one of the following classes: Laying, Sitting, Standing, Walking, Walking Downstairs, Walking Upstairs.\n",
    "\n",
    "Here are some examples to help you get started:\n",
    "\"\"\"\n",
    "\n",
    "example_template = \"\"\"\n",
    "=======================================================\n",
    "- Activity:\n",
    "{activity}\n",
    "\n",
    "- Classification: {classification}\n",
    "\"\"\"\n",
    "\n",
    "for example in train_examples:\n",
    "    query_str += example_template.format(activity=example.text, classification=example.classification)\n",
    "\n",
    "ending_str = \"\"\"\n",
    "Now classify the below activities. Make sure you limit your response for each activity to ONLY your classification, without providing any reasoning or justification for it. If you're not sure, return your best guess:\n",
    "\"\"\"\n",
    "\n",
    "query_str += ending_str\n",
    "\n",
    "test_template = \"\"\"\n",
    "=======================================================\n",
    "Activity {activity_number}:\n",
    "\n",
    "{activity}\n",
    "\n",
    "\"\"\"\n",
    "\n",
    "for cur_example, example in enumerate(test_examples):\n",
    "    query_str += test_template.format(activity_number=cur_example + 1, activity=example.text)\n",
    "\n",
    "response = None\n",
    "while not response:\n",
    "    try:\n",
    "        llm = ChatGroq(model=groq_models[model_name], api_key=os.environ[f'API_KEY_{cur_api_key}'], temperature=0)\n",
    "        response = llm.invoke(query_str).content.strip()\n",
    "    except:\n",
    "        cur_api_key = (cur_api_key % 5) + 1"
   ]
  },
  {
   "cell_type": "code",
   "execution_count": null,
   "metadata": {},
   "outputs": [],
   "source": [
    "classifications = response.split('\\n\\n')\n",
    "classifications = [classification[classification.index(':')+2:] for classification in classifications]\n",
    "\n",
    "correct = sum(1 if classification == test_labels[i] else 0 for i, classification in enumerate(classifications))\n",
    "total = 54\n",
    "accuracy = correct / total\n",
    "\n",
    "accuracy *= 100\n",
    "print(f'Accuracy: {accuracy:.2f}%')"
   ]
  },
  {
   "cell_type": "markdown",
   "metadata": {},
   "source": [
    "## Passing tests one-by-one"
   ]
  },
  {
   "cell_type": "code",
   "execution_count": 10,
   "metadata": {},
   "outputs": [],
   "source": [
    "query_str = \"\"\"You are given some values of the following features of a human, in order:\n",
    "1. tBodyAcc-mean()-X: Mean of the body acceleration signal in the X-axis (horizontal movement).\n",
    "2. tBodyAcc-mean()-Y: Mean of the body acceleration signal in the Y-axis (vertical movement).\n",
    "3. tBodyAcc-mean()-Z: Mean of the body acceleration signal in the Z-axis (lateral movement).\n",
    "4. tGravityAcc-mean()-X: Mean of the gravity acceleration signal in the X-axis.\n",
    "5. tGravityAcc-mean()-Y: Mean of the gravity acceleration signal in the Y-axis.\n",
    "6. tGravityAcc-mean()-Z: Mean of the gravity acceleration signal in the Z-axis.\n",
    "\n",
    "Your task is to classify the activity into one of the following classes: Laying, Sitting, Standing, Walking, Walking Downstairs, Walking Upstairs.\n",
    "\n",
    "Here are some examples to help you get started:\n",
    "\"\"\"\n",
    "\n",
    "example_template = \"\"\"\n",
    "=======================================================\n",
    "- Activity:\n",
    "{activity}\n",
    "\n",
    "- Classification: {classification}\n",
    "\"\"\"\n",
    "\n",
    "for example in train_examples:\n",
    "    query_str += example_template.format(activity=example.text, classification=example.classification)\n",
    "\n",
    "ending_str = \"\"\"\n",
    "Now classify the below activity. Make sure you limit your response to ONLY your classification, without providing any reasoning or justification for it. If you're not sure, return your best guess:\n",
    "\n",
    "\"\"\"\n",
    "\n",
    "query_str += ending_str\n",
    "\n",
    "correct = 0\n",
    "total = 0\n",
    "cur_example = 0\n",
    "cur_api_key = 1\n",
    "\n",
    "while cur_example < len(test_examples):\n",
    "    try:\n",
    "        llm = ChatGroq(model=groq_models[model_name], api_key=os.environ[f'API_KEY_{cur_api_key}'], temperature=0)\n",
    "        response = llm.invoke(query_str + test_examples[cur_example].text).content.strip()\n",
    "        print(response)\n",
    "        print(test_examples[cur_example].classification)\n",
    "        print()\n",
    "\n",
    "        if response == test_examples[cur_example].classification:\n",
    "            correct += 1\n",
    "        total += 1\n",
    "        cur_example += 1\n",
    "    except:\n",
    "        cur_api_key = (cur_api_key % 5) + 1 \n",
    "\n",
    "accuracy = correct / total\n",
    "accuracy *= 100\n",
    "print(f'Accuracy: {accuracy:.2f}%')"
   ]
  }
 ],
 "metadata": {
  "kernelspec": {
   "display_name": "Python 3",
   "language": "python",
   "name": "python3"
  },
  "language_info": {
   "codemirror_mode": {
    "name": "ipython",
    "version": 3
   },
   "file_extension": ".py",
   "mimetype": "text/x-python",
   "name": "python",
   "nbconvert_exporter": "python",
   "pygments_lexer": "ipython3",
   "version": "3.12.4"
  }
 },
 "nbformat": 4,
 "nbformat_minor": 2
}
