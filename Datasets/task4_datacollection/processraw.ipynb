{
 "cells": [
  {
   "cell_type": "code",
   "execution_count": 4,
   "metadata": {},
   "outputs": [
    {
     "name": "stdout",
     "output_type": "stream",
     "text": [
      "Processed and saved: processed\\LAYING\\Subject_1.csv\n",
      "Processed and saved: processed\\LAYING\\Subject_10.csv\n",
      "Processed and saved: processed\\LAYING\\Subject_11.csv\n",
      "Processed and saved: processed\\LAYING\\Subject_12.csv\n",
      "Processed and saved: processed\\LAYING\\Subject_2.csv\n",
      "Processed and saved: processed\\LAYING\\Subject_3.csv\n",
      "Processed and saved: processed\\LAYING\\Subject_4.csv\n",
      "Processed and saved: processed\\LAYING\\Subject_5.csv\n",
      "Processed and saved: processed\\LAYING\\Subject_6.csv\n",
      "Processed and saved: processed\\LAYING\\Subject_7.csv\n",
      "Processed and saved: processed\\LAYING\\Subject_8.csv\n",
      "Processed and saved: processed\\LAYING\\Subject_9.csv\n",
      "Processed and saved: processed\\SITTING\\Subject_1.csv\n",
      "Processed and saved: processed\\SITTING\\Subject_10.csv\n",
      "Processed and saved: processed\\SITTING\\Subject_11.csv\n",
      "Processed and saved: processed\\SITTING\\Subject_12.csv\n",
      "Processed and saved: processed\\SITTING\\Subject_2.csv\n",
      "Processed and saved: processed\\SITTING\\Subject_3.csv\n",
      "Processed and saved: processed\\SITTING\\Subject_4.csv\n",
      "Processed and saved: processed\\SITTING\\Subject_5.csv\n",
      "Processed and saved: processed\\SITTING\\Subject_6.csv\n",
      "Processed and saved: processed\\SITTING\\Subject_7.csv\n",
      "Processed and saved: processed\\SITTING\\Subject_8.csv\n",
      "Processed and saved: processed\\SITTING\\Subject_9.csv\n",
      "Processed and saved: processed\\STANDING\\Subject_1.csv\n",
      "Processed and saved: processed\\STANDING\\Subject_10.csv\n",
      "Processed and saved: processed\\STANDING\\Subject_11.csv\n",
      "Processed and saved: processed\\STANDING\\Subject_12.csv\n",
      "Processed and saved: processed\\STANDING\\Subject_2.csv\n",
      "Processed and saved: processed\\STANDING\\Subject_3.csv\n",
      "Processed and saved: processed\\STANDING\\Subject_4.csv\n",
      "Processed and saved: processed\\STANDING\\Subject_5.csv\n",
      "Processed and saved: processed\\STANDING\\Subject_6.csv\n",
      "Processed and saved: processed\\STANDING\\Subject_7.csv\n",
      "Processed and saved: processed\\STANDING\\Subject_8.csv\n",
      "Processed and saved: processed\\STANDING\\Subject_9.csv\n",
      "Processed and saved: processed\\WALKING\\Subject_1.csv\n",
      "Processed and saved: processed\\WALKING\\Subject_10.csv\n",
      "Processed and saved: processed\\WALKING\\Subject_11.csv\n",
      "Processed and saved: processed\\WALKING\\Subject_12.csv\n",
      "Processed and saved: processed\\WALKING\\Subject_2.csv\n",
      "Processed and saved: processed\\WALKING\\Subject_3.csv\n",
      "Processed and saved: processed\\WALKING\\Subject_4.csv\n",
      "Processed and saved: processed\\WALKING\\Subject_5.csv\n",
      "Processed and saved: processed\\WALKING\\Subject_6.csv\n",
      "Processed and saved: processed\\WALKING\\Subject_7.csv\n",
      "Processed and saved: processed\\WALKING\\Subject_8.csv\n",
      "Processed and saved: processed\\WALKING\\Subject_9.csv\n",
      "Processed and saved: processed\\WALKING_DOWNSTAIRS\\Subject_1.csv\n",
      "Processed and saved: processed\\WALKING_DOWNSTAIRS\\Subject_10.csv\n",
      "Processed and saved: processed\\WALKING_DOWNSTAIRS\\Subject_11.csv\n",
      "Processed and saved: processed\\WALKING_DOWNSTAIRS\\Subject_12.csv\n",
      "Processed and saved: processed\\WALKING_DOWNSTAIRS\\Subject_2.csv\n",
      "Processed and saved: processed\\WALKING_DOWNSTAIRS\\Subject_3.csv\n",
      "Processed and saved: processed\\WALKING_DOWNSTAIRS\\Subject_4.csv\n",
      "Processed and saved: processed\\WALKING_DOWNSTAIRS\\Subject_5.csv\n",
      "Processed and saved: processed\\WALKING_DOWNSTAIRS\\Subject_6.csv\n",
      "Processed and saved: processed\\WALKING_DOWNSTAIRS\\Subject_7.csv\n",
      "Processed and saved: processed\\WALKING_DOWNSTAIRS\\Subject_8.csv\n",
      "Processed and saved: processed\\WALKING_DOWNSTAIRS\\Subject_9.csv\n",
      "Processed and saved: processed\\WALKING_UPSTAIRS\\Subject_1.csv\n",
      "Processed and saved: processed\\WALKING_UPSTAIRS\\Subject_10.csv\n",
      "Processed and saved: processed\\WALKING_UPSTAIRS\\Subject_11.csv\n",
      "Processed and saved: processed\\WALKING_UPSTAIRS\\Subject_12.csv\n",
      "Processed and saved: processed\\WALKING_UPSTAIRS\\Subject_2.csv\n",
      "Processed and saved: processed\\WALKING_UPSTAIRS\\Subject_3.csv\n",
      "Processed and saved: processed\\WALKING_UPSTAIRS\\Subject_4.csv\n",
      "Processed and saved: processed\\WALKING_UPSTAIRS\\Subject_5.csv\n",
      "Processed and saved: processed\\WALKING_UPSTAIRS\\Subject_6.csv\n",
      "Processed and saved: processed\\WALKING_UPSTAIRS\\Subject_7.csv\n",
      "Processed and saved: processed\\WALKING_UPSTAIRS\\Subject_8.csv\n",
      "Processed and saved: processed\\WALKING_UPSTAIRS\\Subject_9.csv\n"
     ]
    }
   ],
   "source": [
    "import os\n",
    "import pandas as pd\n",
    "from datetime import datetime\n",
    "\n",
    "# Path setup\n",
    "raw_dir = 'raw'\n",
    "processed_dir = 'processed'\n",
    "\n",
    "# List all activity directories in the raw directory\n",
    "activities = os.listdir(raw_dir)\n",
    "\n",
    "# Iterate through each activity directory\n",
    "for activity in activities:\n",
    "    raw_activity_dir = os.path.join(raw_dir, activity)\n",
    "    processed_activity_dir = os.path.join(processed_dir, activity)\n",
    "    \n",
    "    # Create corresponding directory in the processed folder if it doesn't exist\n",
    "    os.makedirs(processed_activity_dir, exist_ok=True)\n",
    "    \n",
    "    # Iterate through each CSV file in the current activity directory\n",
    "    for filename in os.listdir(raw_activity_dir):\n",
    "        if filename.endswith('.csv'):\n",
    "            raw_filepath = os.path.join(raw_activity_dir, filename)\n",
    "            \n",
    "            # Load the CSV file\n",
    "            data = pd.read_csv(raw_filepath)\n",
    "            \n",
    "            # Convert 'time' column to datetime and calculate elapsed time in ms\n",
    "            data['time'] = pd.to_datetime(data['time'], format='%H:%M:%S:%f')\n",
    "            data['elapsed_time'] = (data['time'] - data['time'].iloc[0]).dt.total_seconds() * 1000\n",
    "            \n",
    "            # Initialize a list to store downsampled data\n",
    "            downsampled_data = []\n",
    "\n",
    "            # Define a 20 ms interval\n",
    "            interval = 20\n",
    "            start_time = 0\n",
    "            \n",
    "            while start_time < data['elapsed_time'].iloc[-1]:\n",
    "                end_time = start_time + interval\n",
    "                mask = (data['elapsed_time'] >= start_time) & (data['elapsed_time'] < end_time)\n",
    "                group = data[mask]\n",
    "\n",
    "                if not group.empty:\n",
    "                    # Average the data in this group\n",
    "                    avg_gFx = group['gFx'].mean()\n",
    "                    avg_gFy = group['gFy'].mean()\n",
    "                    avg_gFz = group['gFz'].mean()\n",
    "\n",
    "                    # Append the averaged data\n",
    "                    downsampled_data.append([avg_gFx, avg_gFy, avg_gFz])\n",
    "                \n",
    "                # Move to the next interval\n",
    "                start_time += interval\n",
    "\n",
    "            # Convert to DataFrame and round values to 7 decimal places\n",
    "            downsampled_df = pd.DataFrame(downsampled_data, columns=['accx', 'accy', 'accz'])\n",
    "            downsampled_df = downsampled_df.round(7)  # Round to 7 decimal places\n",
    "            \n",
    "            # Save the processed file to the processed directory\n",
    "            processed_filepath = os.path.join(processed_activity_dir, filename)\n",
    "            downsampled_df.to_csv(processed_filepath, index=False)\n",
    "            \n",
    "            print(f\"Processed and saved: {processed_filepath}\")\n"
   ]
  },
  {
   "cell_type": "markdown",
   "metadata": {},
   "source": [
    "# Processing into required duration:\n",
    "- 10 seconds of data will be taken from the total data. THis will be done by removing the first 4.5 seconds and the last 0.5 seconds. "
   ]
  },
  {
   "cell_type": "code",
   "execution_count": 5,
   "metadata": {},
   "outputs": [
    {
     "name": "stdout",
     "output_type": "stream",
     "text": [
      "Processed and saved: processed_trimmed\\LAYING\\Subject_1.csv\n",
      "Processed and saved: processed_trimmed\\LAYING\\Subject_10.csv\n",
      "Processed and saved: processed_trimmed\\LAYING\\Subject_11.csv\n",
      "Processed and saved: processed_trimmed\\LAYING\\Subject_12.csv\n",
      "Processed and saved: processed_trimmed\\LAYING\\Subject_2.csv\n",
      "Processed and saved: processed_trimmed\\LAYING\\Subject_3.csv\n",
      "Processed and saved: processed_trimmed\\LAYING\\Subject_4.csv\n",
      "Processed and saved: processed_trimmed\\LAYING\\Subject_5.csv\n",
      "Processed and saved: processed_trimmed\\LAYING\\Subject_6.csv\n",
      "Processed and saved: processed_trimmed\\LAYING\\Subject_7.csv\n",
      "Processed and saved: processed_trimmed\\LAYING\\Subject_8.csv\n",
      "Processed and saved: processed_trimmed\\LAYING\\Subject_9.csv\n",
      "Processed and saved: processed_trimmed\\SITTING\\Subject_1.csv\n",
      "Processed and saved: processed_trimmed\\SITTING\\Subject_10.csv\n",
      "Processed and saved: processed_trimmed\\SITTING\\Subject_11.csv\n",
      "Processed and saved: processed_trimmed\\SITTING\\Subject_12.csv\n",
      "Processed and saved: processed_trimmed\\SITTING\\Subject_2.csv\n",
      "Processed and saved: processed_trimmed\\SITTING\\Subject_3.csv\n",
      "Processed and saved: processed_trimmed\\SITTING\\Subject_4.csv\n",
      "Processed and saved: processed_trimmed\\SITTING\\Subject_5.csv\n",
      "Processed and saved: processed_trimmed\\SITTING\\Subject_6.csv\n",
      "Processed and saved: processed_trimmed\\SITTING\\Subject_7.csv\n",
      "Processed and saved: processed_trimmed\\SITTING\\Subject_8.csv\n",
      "Processed and saved: processed_trimmed\\SITTING\\Subject_9.csv\n",
      "Processed and saved: processed_trimmed\\STANDING\\Subject_1.csv\n",
      "Processed and saved: processed_trimmed\\STANDING\\Subject_10.csv\n",
      "Processed and saved: processed_trimmed\\STANDING\\Subject_11.csv\n",
      "Processed and saved: processed_trimmed\\STANDING\\Subject_12.csv\n",
      "Processed and saved: processed_trimmed\\STANDING\\Subject_2.csv\n",
      "Processed and saved: processed_trimmed\\STANDING\\Subject_3.csv\n",
      "Processed and saved: processed_trimmed\\STANDING\\Subject_4.csv\n",
      "Processed and saved: processed_trimmed\\STANDING\\Subject_5.csv\n",
      "Processed and saved: processed_trimmed\\STANDING\\Subject_6.csv\n",
      "Processed and saved: processed_trimmed\\STANDING\\Subject_7.csv\n",
      "Processed and saved: processed_trimmed\\STANDING\\Subject_8.csv\n",
      "Processed and saved: processed_trimmed\\STANDING\\Subject_9.csv\n",
      "Processed and saved: processed_trimmed\\WALKING\\Subject_1.csv\n",
      "Processed and saved: processed_trimmed\\WALKING\\Subject_10.csv\n",
      "Processed and saved: processed_trimmed\\WALKING\\Subject_11.csv\n",
      "Processed and saved: processed_trimmed\\WALKING\\Subject_12.csv\n",
      "Processed and saved: processed_trimmed\\WALKING\\Subject_2.csv\n",
      "Processed and saved: processed_trimmed\\WALKING\\Subject_3.csv\n",
      "Processed and saved: processed_trimmed\\WALKING\\Subject_4.csv\n",
      "Processed and saved: processed_trimmed\\WALKING\\Subject_5.csv\n",
      "Processed and saved: processed_trimmed\\WALKING\\Subject_6.csv\n",
      "Processed and saved: processed_trimmed\\WALKING\\Subject_7.csv\n",
      "Processed and saved: processed_trimmed\\WALKING\\Subject_8.csv\n",
      "Processed and saved: processed_trimmed\\WALKING\\Subject_9.csv\n",
      "Processed and saved: processed_trimmed\\WALKING_DOWNSTAIRS\\Subject_1.csv\n",
      "Processed and saved: processed_trimmed\\WALKING_DOWNSTAIRS\\Subject_10.csv\n",
      "Processed and saved: processed_trimmed\\WALKING_DOWNSTAIRS\\Subject_11.csv\n",
      "Processed and saved: processed_trimmed\\WALKING_DOWNSTAIRS\\Subject_12.csv\n",
      "Processed and saved: processed_trimmed\\WALKING_DOWNSTAIRS\\Subject_2.csv\n",
      "Processed and saved: processed_trimmed\\WALKING_DOWNSTAIRS\\Subject_3.csv\n",
      "Processed and saved: processed_trimmed\\WALKING_DOWNSTAIRS\\Subject_4.csv\n",
      "Processed and saved: processed_trimmed\\WALKING_DOWNSTAIRS\\Subject_5.csv\n",
      "Processed and saved: processed_trimmed\\WALKING_DOWNSTAIRS\\Subject_6.csv\n",
      "Processed and saved: processed_trimmed\\WALKING_DOWNSTAIRS\\Subject_7.csv\n",
      "Processed and saved: processed_trimmed\\WALKING_DOWNSTAIRS\\Subject_8.csv\n",
      "Processed and saved: processed_trimmed\\WALKING_DOWNSTAIRS\\Subject_9.csv\n",
      "Processed and saved: processed_trimmed\\WALKING_UPSTAIRS\\Subject_1.csv\n",
      "Processed and saved: processed_trimmed\\WALKING_UPSTAIRS\\Subject_10.csv\n",
      "Processed and saved: processed_trimmed\\WALKING_UPSTAIRS\\Subject_11.csv\n",
      "Processed and saved: processed_trimmed\\WALKING_UPSTAIRS\\Subject_12.csv\n",
      "Processed and saved: processed_trimmed\\WALKING_UPSTAIRS\\Subject_2.csv\n",
      "Processed and saved: processed_trimmed\\WALKING_UPSTAIRS\\Subject_3.csv\n",
      "Processed and saved: processed_trimmed\\WALKING_UPSTAIRS\\Subject_4.csv\n",
      "Processed and saved: processed_trimmed\\WALKING_UPSTAIRS\\Subject_5.csv\n",
      "Processed and saved: processed_trimmed\\WALKING_UPSTAIRS\\Subject_6.csv\n",
      "Processed and saved: processed_trimmed\\WALKING_UPSTAIRS\\Subject_7.csv\n",
      "Processed and saved: processed_trimmed\\WALKING_UPSTAIRS\\Subject_8.csv\n",
      "Processed and saved: processed_trimmed\\WALKING_UPSTAIRS\\Subject_9.csv\n"
     ]
    }
   ],
   "source": [
    "import os\n",
    "import pandas as pd\n",
    "\n",
    "# Define paths\n",
    "base_dir = 'processed'\n",
    "output_dir = 'processed_trimmed'\n",
    "\n",
    "# Create the output directory if it doesn't exist\n",
    "os.makedirs(output_dir, exist_ok=True)\n",
    "\n",
    "# Process each activity directory\n",
    "for activity in os.listdir(base_dir):\n",
    "    activity_dir = os.path.join(base_dir, activity)\n",
    "    \n",
    "    if os.path.isdir(activity_dir):\n",
    "        # Create the corresponding directory in the output folder\n",
    "        output_activity_dir = os.path.join(output_dir, activity)\n",
    "        os.makedirs(output_activity_dir, exist_ok=True)\n",
    "        \n",
    "        # Process each CSV file in the activity directory\n",
    "        for filename in os.listdir(activity_dir):\n",
    "            if filename.endswith('.csv'):\n",
    "                input_filepath = os.path.join(activity_dir, filename)\n",
    "                output_filepath = os.path.join(output_activity_dir, filename)\n",
    "                \n",
    "                # Load the CSV file\n",
    "                data = pd.read_csv(input_filepath)\n",
    "                \n",
    "                # Remove the first 175 rows\n",
    "                data_trimmed = data.iloc[175:]\n",
    "                \n",
    "                # Keep only the next 500 rows\n",
    "                data_trimmed = data_trimmed.iloc[:500]\n",
    "                \n",
    "                # Save the processed file\n",
    "                data_trimmed.to_csv(output_filepath, index=False)\n",
    "                \n",
    "                # Check if there are fewer than 25 rows left in the original file after the 675th row\n",
    "                remaining_rows = len(data) - 675\n",
    "                if remaining_rows < 25:\n",
    "                    print(f\"Warning: {filename} in {activity} has only {remaining_rows} rows left after processing.\")\n",
    "                \n",
    "                print(f\"Processed and saved: {output_filepath}\")\n"
   ]
  },
  {
   "cell_type": "code",
   "execution_count": null,
   "metadata": {},
   "outputs": [],
   "source": [
    "# Dividing into train and test data"
   ]
  },
  {
   "cell_type": "markdown",
   "metadata": {},
   "source": [
    "# Generating TSFEL Features:"
   ]
  },
  {
   "cell_type": "code",
   "execution_count": 12,
   "metadata": {},
   "outputs": [
    {
     "name": "stdout",
     "output_type": "stream",
     "text": [
      "*** Feature extraction started ***\n"
     ]
    },
    {
     "data": {
      "text/html": [
       "\n",
       "              <p>\n",
       "                  Progress: 100% Complete\n",
       "              <p/>\n",
       "              <progress\n",
       "                  value='67'\n",
       "                  max='67',\n",
       "                  style='width: 25%',\n",
       "              >\n",
       "                  67\n",
       "              </progress>\n",
       "\n",
       "    "
      ],
      "text/plain": [
       "<IPython.core.display.HTML object>"
      ]
     },
     "metadata": {},
     "output_type": "display_data"
    },
    {
     "name": "stdout",
     "output_type": "stream",
     "text": [
      "\n",
      "*** Feature extraction finished ***\n",
      "*** Feature extraction started ***\n"
     ]
    },
    {
     "data": {
      "text/html": [
       "\n",
       "              <p>\n",
       "                  Progress: 100% Complete\n",
       "              <p/>\n",
       "              <progress\n",
       "                  value='67'\n",
       "                  max='67',\n",
       "                  style='width: 25%',\n",
       "              >\n",
       "                  67\n",
       "              </progress>\n",
       "\n",
       "    "
      ],
      "text/plain": [
       "<IPython.core.display.HTML object>"
      ]
     },
     "metadata": {},
     "output_type": "display_data"
    },
    {
     "name": "stdout",
     "output_type": "stream",
     "text": [
      "\n",
      "*** Feature extraction finished ***\n",
      "*** Feature extraction started ***\n"
     ]
    },
    {
     "data": {
      "text/html": [
       "\n",
       "              <p>\n",
       "                  Progress: 100% Complete\n",
       "              <p/>\n",
       "              <progress\n",
       "                  value='67'\n",
       "                  max='67',\n",
       "                  style='width: 25%',\n",
       "              >\n",
       "                  67\n",
       "              </progress>\n",
       "\n",
       "    "
      ],
      "text/plain": [
       "<IPython.core.display.HTML object>"
      ]
     },
     "metadata": {},
     "output_type": "display_data"
    },
    {
     "name": "stdout",
     "output_type": "stream",
     "text": [
      "\n",
      "*** Feature extraction finished ***\n",
      "*** Feature extraction started ***\n"
     ]
    },
    {
     "data": {
      "text/html": [
       "\n",
       "              <p>\n",
       "                  Progress: 100% Complete\n",
       "              <p/>\n",
       "              <progress\n",
       "                  value='67'\n",
       "                  max='67',\n",
       "                  style='width: 25%',\n",
       "              >\n",
       "                  67\n",
       "              </progress>\n",
       "\n",
       "    "
      ],
      "text/plain": [
       "<IPython.core.display.HTML object>"
      ]
     },
     "metadata": {},
     "output_type": "display_data"
    },
    {
     "name": "stdout",
     "output_type": "stream",
     "text": [
      "\n",
      "*** Feature extraction finished ***\n",
      "*** Feature extraction started ***\n"
     ]
    },
    {
     "data": {
      "text/html": [
       "\n",
       "              <p>\n",
       "                  Progress: 100% Complete\n",
       "              <p/>\n",
       "              <progress\n",
       "                  value='67'\n",
       "                  max='67',\n",
       "                  style='width: 25%',\n",
       "              >\n",
       "                  67\n",
       "              </progress>\n",
       "\n",
       "    "
      ],
      "text/plain": [
       "<IPython.core.display.HTML object>"
      ]
     },
     "metadata": {},
     "output_type": "display_data"
    },
    {
     "name": "stdout",
     "output_type": "stream",
     "text": [
      "\n",
      "*** Feature extraction finished ***\n",
      "*** Feature extraction started ***\n"
     ]
    },
    {
     "data": {
      "text/html": [
       "\n",
       "              <p>\n",
       "                  Progress: 100% Complete\n",
       "              <p/>\n",
       "              <progress\n",
       "                  value='67'\n",
       "                  max='67',\n",
       "                  style='width: 25%',\n",
       "              >\n",
       "                  67\n",
       "              </progress>\n",
       "\n",
       "    "
      ],
      "text/plain": [
       "<IPython.core.display.HTML object>"
      ]
     },
     "metadata": {},
     "output_type": "display_data"
    },
    {
     "name": "stdout",
     "output_type": "stream",
     "text": [
      "\n",
      "*** Feature extraction finished ***\n",
      "*** Feature extraction started ***\n"
     ]
    },
    {
     "data": {
      "text/html": [
       "\n",
       "              <p>\n",
       "                  Progress: 100% Complete\n",
       "              <p/>\n",
       "              <progress\n",
       "                  value='67'\n",
       "                  max='67',\n",
       "                  style='width: 25%',\n",
       "              >\n",
       "                  67\n",
       "              </progress>\n",
       "\n",
       "    "
      ],
      "text/plain": [
       "<IPython.core.display.HTML object>"
      ]
     },
     "metadata": {},
     "output_type": "display_data"
    },
    {
     "name": "stdout",
     "output_type": "stream",
     "text": [
      "\n",
      "*** Feature extraction finished ***\n",
      "*** Feature extraction started ***\n"
     ]
    },
    {
     "data": {
      "text/html": [
       "\n",
       "              <p>\n",
       "                  Progress: 100% Complete\n",
       "              <p/>\n",
       "              <progress\n",
       "                  value='67'\n",
       "                  max='67',\n",
       "                  style='width: 25%',\n",
       "              >\n",
       "                  67\n",
       "              </progress>\n",
       "\n",
       "    "
      ],
      "text/plain": [
       "<IPython.core.display.HTML object>"
      ]
     },
     "metadata": {},
     "output_type": "display_data"
    },
    {
     "name": "stdout",
     "output_type": "stream",
     "text": [
      "\n",
      "*** Feature extraction finished ***\n",
      "*** Feature extraction started ***\n"
     ]
    },
    {
     "data": {
      "text/html": [
       "\n",
       "              <p>\n",
       "                  Progress: 100% Complete\n",
       "              <p/>\n",
       "              <progress\n",
       "                  value='67'\n",
       "                  max='67',\n",
       "                  style='width: 25%',\n",
       "              >\n",
       "                  67\n",
       "              </progress>\n",
       "\n",
       "    "
      ],
      "text/plain": [
       "<IPython.core.display.HTML object>"
      ]
     },
     "metadata": {},
     "output_type": "display_data"
    },
    {
     "name": "stdout",
     "output_type": "stream",
     "text": [
      "\n",
      "*** Feature extraction finished ***\n",
      "*** Feature extraction started ***\n"
     ]
    },
    {
     "data": {
      "text/html": [
       "\n",
       "              <p>\n",
       "                  Progress: 100% Complete\n",
       "              <p/>\n",
       "              <progress\n",
       "                  value='67'\n",
       "                  max='67',\n",
       "                  style='width: 25%',\n",
       "              >\n",
       "                  67\n",
       "              </progress>\n",
       "\n",
       "    "
      ],
      "text/plain": [
       "<IPython.core.display.HTML object>"
      ]
     },
     "metadata": {},
     "output_type": "display_data"
    },
    {
     "name": "stdout",
     "output_type": "stream",
     "text": [
      "\n",
      "*** Feature extraction finished ***\n",
      "*** Feature extraction started ***\n"
     ]
    },
    {
     "data": {
      "text/html": [
       "\n",
       "              <p>\n",
       "                  Progress: 100% Complete\n",
       "              <p/>\n",
       "              <progress\n",
       "                  value='67'\n",
       "                  max='67',\n",
       "                  style='width: 25%',\n",
       "              >\n",
       "                  67\n",
       "              </progress>\n",
       "\n",
       "    "
      ],
      "text/plain": [
       "<IPython.core.display.HTML object>"
      ]
     },
     "metadata": {},
     "output_type": "display_data"
    },
    {
     "name": "stdout",
     "output_type": "stream",
     "text": [
      "\n",
      "*** Feature extraction finished ***\n",
      "*** Feature extraction started ***\n"
     ]
    },
    {
     "data": {
      "text/html": [
       "\n",
       "              <p>\n",
       "                  Progress: 100% Complete\n",
       "              <p/>\n",
       "              <progress\n",
       "                  value='67'\n",
       "                  max='67',\n",
       "                  style='width: 25%',\n",
       "              >\n",
       "                  67\n",
       "              </progress>\n",
       "\n",
       "    "
      ],
      "text/plain": [
       "<IPython.core.display.HTML object>"
      ]
     },
     "metadata": {},
     "output_type": "display_data"
    },
    {
     "name": "stdout",
     "output_type": "stream",
     "text": [
      "\n",
      "*** Feature extraction finished ***\n",
      "*** Feature extraction started ***\n"
     ]
    },
    {
     "data": {
      "text/html": [
       "\n",
       "              <p>\n",
       "                  Progress: 100% Complete\n",
       "              <p/>\n",
       "              <progress\n",
       "                  value='67'\n",
       "                  max='67',\n",
       "                  style='width: 25%',\n",
       "              >\n",
       "                  67\n",
       "              </progress>\n",
       "\n",
       "    "
      ],
      "text/plain": [
       "<IPython.core.display.HTML object>"
      ]
     },
     "metadata": {},
     "output_type": "display_data"
    },
    {
     "name": "stdout",
     "output_type": "stream",
     "text": [
      "\n",
      "*** Feature extraction finished ***\n",
      "*** Feature extraction started ***\n"
     ]
    },
    {
     "data": {
      "text/html": [
       "\n",
       "              <p>\n",
       "                  Progress: 100% Complete\n",
       "              <p/>\n",
       "              <progress\n",
       "                  value='67'\n",
       "                  max='67',\n",
       "                  style='width: 25%',\n",
       "              >\n",
       "                  67\n",
       "              </progress>\n",
       "\n",
       "    "
      ],
      "text/plain": [
       "<IPython.core.display.HTML object>"
      ]
     },
     "metadata": {},
     "output_type": "display_data"
    },
    {
     "name": "stdout",
     "output_type": "stream",
     "text": [
      "\n",
      "*** Feature extraction finished ***\n",
      "*** Feature extraction started ***\n"
     ]
    },
    {
     "data": {
      "text/html": [
       "\n",
       "              <p>\n",
       "                  Progress: 100% Complete\n",
       "              <p/>\n",
       "              <progress\n",
       "                  value='67'\n",
       "                  max='67',\n",
       "                  style='width: 25%',\n",
       "              >\n",
       "                  67\n",
       "              </progress>\n",
       "\n",
       "    "
      ],
      "text/plain": [
       "<IPython.core.display.HTML object>"
      ]
     },
     "metadata": {},
     "output_type": "display_data"
    },
    {
     "name": "stdout",
     "output_type": "stream",
     "text": [
      "\n",
      "*** Feature extraction finished ***\n",
      "*** Feature extraction started ***\n"
     ]
    },
    {
     "data": {
      "text/html": [
       "\n",
       "              <p>\n",
       "                  Progress: 100% Complete\n",
       "              <p/>\n",
       "              <progress\n",
       "                  value='67'\n",
       "                  max='67',\n",
       "                  style='width: 25%',\n",
       "              >\n",
       "                  67\n",
       "              </progress>\n",
       "\n",
       "    "
      ],
      "text/plain": [
       "<IPython.core.display.HTML object>"
      ]
     },
     "metadata": {},
     "output_type": "display_data"
    },
    {
     "name": "stdout",
     "output_type": "stream",
     "text": [
      "\n",
      "*** Feature extraction finished ***\n",
      "*** Feature extraction started ***\n"
     ]
    },
    {
     "data": {
      "text/html": [
       "\n",
       "              <p>\n",
       "                  Progress: 100% Complete\n",
       "              <p/>\n",
       "              <progress\n",
       "                  value='67'\n",
       "                  max='67',\n",
       "                  style='width: 25%',\n",
       "              >\n",
       "                  67\n",
       "              </progress>\n",
       "\n",
       "    "
      ],
      "text/plain": [
       "<IPython.core.display.HTML object>"
      ]
     },
     "metadata": {},
     "output_type": "display_data"
    },
    {
     "name": "stdout",
     "output_type": "stream",
     "text": [
      "\n",
      "*** Feature extraction finished ***\n",
      "*** Feature extraction started ***\n"
     ]
    },
    {
     "data": {
      "text/html": [
       "\n",
       "              <p>\n",
       "                  Progress: 100% Complete\n",
       "              <p/>\n",
       "              <progress\n",
       "                  value='67'\n",
       "                  max='67',\n",
       "                  style='width: 25%',\n",
       "              >\n",
       "                  67\n",
       "              </progress>\n",
       "\n",
       "    "
      ],
      "text/plain": [
       "<IPython.core.display.HTML object>"
      ]
     },
     "metadata": {},
     "output_type": "display_data"
    },
    {
     "name": "stdout",
     "output_type": "stream",
     "text": [
      "\n",
      "*** Feature extraction finished ***\n",
      "*** Feature extraction started ***\n"
     ]
    },
    {
     "data": {
      "text/html": [
       "\n",
       "              <p>\n",
       "                  Progress: 100% Complete\n",
       "              <p/>\n",
       "              <progress\n",
       "                  value='67'\n",
       "                  max='67',\n",
       "                  style='width: 25%',\n",
       "              >\n",
       "                  67\n",
       "              </progress>\n",
       "\n",
       "    "
      ],
      "text/plain": [
       "<IPython.core.display.HTML object>"
      ]
     },
     "metadata": {},
     "output_type": "display_data"
    },
    {
     "name": "stdout",
     "output_type": "stream",
     "text": [
      "\n",
      "*** Feature extraction finished ***\n",
      "*** Feature extraction started ***\n"
     ]
    },
    {
     "data": {
      "text/html": [
       "\n",
       "              <p>\n",
       "                  Progress: 100% Complete\n",
       "              <p/>\n",
       "              <progress\n",
       "                  value='67'\n",
       "                  max='67',\n",
       "                  style='width: 25%',\n",
       "              >\n",
       "                  67\n",
       "              </progress>\n",
       "\n",
       "    "
      ],
      "text/plain": [
       "<IPython.core.display.HTML object>"
      ]
     },
     "metadata": {},
     "output_type": "display_data"
    },
    {
     "name": "stdout",
     "output_type": "stream",
     "text": [
      "\n",
      "*** Feature extraction finished ***\n",
      "*** Feature extraction started ***\n"
     ]
    },
    {
     "data": {
      "text/html": [
       "\n",
       "              <p>\n",
       "                  Progress: 100% Complete\n",
       "              <p/>\n",
       "              <progress\n",
       "                  value='67'\n",
       "                  max='67',\n",
       "                  style='width: 25%',\n",
       "              >\n",
       "                  67\n",
       "              </progress>\n",
       "\n",
       "    "
      ],
      "text/plain": [
       "<IPython.core.display.HTML object>"
      ]
     },
     "metadata": {},
     "output_type": "display_data"
    },
    {
     "name": "stdout",
     "output_type": "stream",
     "text": [
      "\n",
      "*** Feature extraction finished ***\n",
      "*** Feature extraction started ***\n"
     ]
    },
    {
     "data": {
      "text/html": [
       "\n",
       "              <p>\n",
       "                  Progress: 100% Complete\n",
       "              <p/>\n",
       "              <progress\n",
       "                  value='67'\n",
       "                  max='67',\n",
       "                  style='width: 25%',\n",
       "              >\n",
       "                  67\n",
       "              </progress>\n",
       "\n",
       "    "
      ],
      "text/plain": [
       "<IPython.core.display.HTML object>"
      ]
     },
     "metadata": {},
     "output_type": "display_data"
    },
    {
     "name": "stdout",
     "output_type": "stream",
     "text": [
      "\n",
      "*** Feature extraction finished ***\n",
      "*** Feature extraction started ***\n"
     ]
    },
    {
     "data": {
      "text/html": [
       "\n",
       "              <p>\n",
       "                  Progress: 100% Complete\n",
       "              <p/>\n",
       "              <progress\n",
       "                  value='67'\n",
       "                  max='67',\n",
       "                  style='width: 25%',\n",
       "              >\n",
       "                  67\n",
       "              </progress>\n",
       "\n",
       "    "
      ],
      "text/plain": [
       "<IPython.core.display.HTML object>"
      ]
     },
     "metadata": {},
     "output_type": "display_data"
    },
    {
     "name": "stdout",
     "output_type": "stream",
     "text": [
      "\n",
      "*** Feature extraction finished ***\n",
      "*** Feature extraction started ***\n"
     ]
    },
    {
     "data": {
      "text/html": [
       "\n",
       "              <p>\n",
       "                  Progress: 100% Complete\n",
       "              <p/>\n",
       "              <progress\n",
       "                  value='67'\n",
       "                  max='67',\n",
       "                  style='width: 25%',\n",
       "              >\n",
       "                  67\n",
       "              </progress>\n",
       "\n",
       "    "
      ],
      "text/plain": [
       "<IPython.core.display.HTML object>"
      ]
     },
     "metadata": {},
     "output_type": "display_data"
    },
    {
     "name": "stdout",
     "output_type": "stream",
     "text": [
      "\n",
      "*** Feature extraction finished ***\n",
      "*** Feature extraction started ***\n"
     ]
    },
    {
     "data": {
      "text/html": [
       "\n",
       "              <p>\n",
       "                  Progress: 100% Complete\n",
       "              <p/>\n",
       "              <progress\n",
       "                  value='67'\n",
       "                  max='67',\n",
       "                  style='width: 25%',\n",
       "              >\n",
       "                  67\n",
       "              </progress>\n",
       "\n",
       "    "
      ],
      "text/plain": [
       "<IPython.core.display.HTML object>"
      ]
     },
     "metadata": {},
     "output_type": "display_data"
    },
    {
     "name": "stdout",
     "output_type": "stream",
     "text": [
      "\n",
      "*** Feature extraction finished ***\n",
      "*** Feature extraction started ***\n"
     ]
    },
    {
     "data": {
      "text/html": [
       "\n",
       "              <p>\n",
       "                  Progress: 100% Complete\n",
       "              <p/>\n",
       "              <progress\n",
       "                  value='67'\n",
       "                  max='67',\n",
       "                  style='width: 25%',\n",
       "              >\n",
       "                  67\n",
       "              </progress>\n",
       "\n",
       "    "
      ],
      "text/plain": [
       "<IPython.core.display.HTML object>"
      ]
     },
     "metadata": {},
     "output_type": "display_data"
    },
    {
     "name": "stdout",
     "output_type": "stream",
     "text": [
      "\n",
      "*** Feature extraction finished ***\n",
      "*** Feature extraction started ***\n"
     ]
    },
    {
     "data": {
      "text/html": [
       "\n",
       "              <p>\n",
       "                  Progress: 100% Complete\n",
       "              <p/>\n",
       "              <progress\n",
       "                  value='67'\n",
       "                  max='67',\n",
       "                  style='width: 25%',\n",
       "              >\n",
       "                  67\n",
       "              </progress>\n",
       "\n",
       "    "
      ],
      "text/plain": [
       "<IPython.core.display.HTML object>"
      ]
     },
     "metadata": {},
     "output_type": "display_data"
    },
    {
     "name": "stdout",
     "output_type": "stream",
     "text": [
      "\n",
      "*** Feature extraction finished ***\n",
      "*** Feature extraction started ***\n"
     ]
    },
    {
     "data": {
      "text/html": [
       "\n",
       "              <p>\n",
       "                  Progress: 100% Complete\n",
       "              <p/>\n",
       "              <progress\n",
       "                  value='67'\n",
       "                  max='67',\n",
       "                  style='width: 25%',\n",
       "              >\n",
       "                  67\n",
       "              </progress>\n",
       "\n",
       "    "
      ],
      "text/plain": [
       "<IPython.core.display.HTML object>"
      ]
     },
     "metadata": {},
     "output_type": "display_data"
    },
    {
     "name": "stdout",
     "output_type": "stream",
     "text": [
      "\n",
      "*** Feature extraction finished ***\n",
      "*** Feature extraction started ***\n"
     ]
    },
    {
     "data": {
      "text/html": [
       "\n",
       "              <p>\n",
       "                  Progress: 100% Complete\n",
       "              <p/>\n",
       "              <progress\n",
       "                  value='67'\n",
       "                  max='67',\n",
       "                  style='width: 25%',\n",
       "              >\n",
       "                  67\n",
       "              </progress>\n",
       "\n",
       "    "
      ],
      "text/plain": [
       "<IPython.core.display.HTML object>"
      ]
     },
     "metadata": {},
     "output_type": "display_data"
    },
    {
     "name": "stdout",
     "output_type": "stream",
     "text": [
      "\n",
      "*** Feature extraction finished ***\n",
      "*** Feature extraction started ***\n"
     ]
    },
    {
     "data": {
      "text/html": [
       "\n",
       "              <p>\n",
       "                  Progress: 100% Complete\n",
       "              <p/>\n",
       "              <progress\n",
       "                  value='67'\n",
       "                  max='67',\n",
       "                  style='width: 25%',\n",
       "              >\n",
       "                  67\n",
       "              </progress>\n",
       "\n",
       "    "
      ],
      "text/plain": [
       "<IPython.core.display.HTML object>"
      ]
     },
     "metadata": {},
     "output_type": "display_data"
    },
    {
     "name": "stdout",
     "output_type": "stream",
     "text": [
      "\n",
      "*** Feature extraction finished ***\n",
      "*** Feature extraction started ***\n"
     ]
    },
    {
     "data": {
      "text/html": [
       "\n",
       "              <p>\n",
       "                  Progress: 100% Complete\n",
       "              <p/>\n",
       "              <progress\n",
       "                  value='67'\n",
       "                  max='67',\n",
       "                  style='width: 25%',\n",
       "              >\n",
       "                  67\n",
       "              </progress>\n",
       "\n",
       "    "
      ],
      "text/plain": [
       "<IPython.core.display.HTML object>"
      ]
     },
     "metadata": {},
     "output_type": "display_data"
    },
    {
     "name": "stdout",
     "output_type": "stream",
     "text": [
      "\n",
      "*** Feature extraction finished ***\n",
      "*** Feature extraction started ***\n"
     ]
    },
    {
     "data": {
      "text/html": [
       "\n",
       "              <p>\n",
       "                  Progress: 100% Complete\n",
       "              <p/>\n",
       "              <progress\n",
       "                  value='67'\n",
       "                  max='67',\n",
       "                  style='width: 25%',\n",
       "              >\n",
       "                  67\n",
       "              </progress>\n",
       "\n",
       "    "
      ],
      "text/plain": [
       "<IPython.core.display.HTML object>"
      ]
     },
     "metadata": {},
     "output_type": "display_data"
    },
    {
     "name": "stdout",
     "output_type": "stream",
     "text": [
      "\n",
      "*** Feature extraction finished ***\n",
      "*** Feature extraction started ***\n"
     ]
    },
    {
     "data": {
      "text/html": [
       "\n",
       "              <p>\n",
       "                  Progress: 100% Complete\n",
       "              <p/>\n",
       "              <progress\n",
       "                  value='67'\n",
       "                  max='67',\n",
       "                  style='width: 25%',\n",
       "              >\n",
       "                  67\n",
       "              </progress>\n",
       "\n",
       "    "
      ],
      "text/plain": [
       "<IPython.core.display.HTML object>"
      ]
     },
     "metadata": {},
     "output_type": "display_data"
    },
    {
     "name": "stdout",
     "output_type": "stream",
     "text": [
      "\n",
      "*** Feature extraction finished ***\n",
      "*** Feature extraction started ***\n"
     ]
    },
    {
     "data": {
      "text/html": [
       "\n",
       "              <p>\n",
       "                  Progress: 100% Complete\n",
       "              <p/>\n",
       "              <progress\n",
       "                  value='67'\n",
       "                  max='67',\n",
       "                  style='width: 25%',\n",
       "              >\n",
       "                  67\n",
       "              </progress>\n",
       "\n",
       "    "
      ],
      "text/plain": [
       "<IPython.core.display.HTML object>"
      ]
     },
     "metadata": {},
     "output_type": "display_data"
    },
    {
     "name": "stdout",
     "output_type": "stream",
     "text": [
      "\n",
      "*** Feature extraction finished ***\n",
      "*** Feature extraction started ***\n"
     ]
    },
    {
     "data": {
      "text/html": [
       "\n",
       "              <p>\n",
       "                  Progress: 100% Complete\n",
       "              <p/>\n",
       "              <progress\n",
       "                  value='67'\n",
       "                  max='67',\n",
       "                  style='width: 25%',\n",
       "              >\n",
       "                  67\n",
       "              </progress>\n",
       "\n",
       "    "
      ],
      "text/plain": [
       "<IPython.core.display.HTML object>"
      ]
     },
     "metadata": {},
     "output_type": "display_data"
    },
    {
     "name": "stdout",
     "output_type": "stream",
     "text": [
      "\n",
      "*** Feature extraction finished ***\n",
      "*** Feature extraction started ***\n"
     ]
    },
    {
     "data": {
      "text/html": [
       "\n",
       "              <p>\n",
       "                  Progress: 100% Complete\n",
       "              <p/>\n",
       "              <progress\n",
       "                  value='67'\n",
       "                  max='67',\n",
       "                  style='width: 25%',\n",
       "              >\n",
       "                  67\n",
       "              </progress>\n",
       "\n",
       "    "
      ],
      "text/plain": [
       "<IPython.core.display.HTML object>"
      ]
     },
     "metadata": {},
     "output_type": "display_data"
    },
    {
     "name": "stdout",
     "output_type": "stream",
     "text": [
      "\n",
      "*** Feature extraction finished ***\n",
      "*** Feature extraction started ***\n"
     ]
    },
    {
     "data": {
      "text/html": [
       "\n",
       "              <p>\n",
       "                  Progress: 100% Complete\n",
       "              <p/>\n",
       "              <progress\n",
       "                  value='67'\n",
       "                  max='67',\n",
       "                  style='width: 25%',\n",
       "              >\n",
       "                  67\n",
       "              </progress>\n",
       "\n",
       "    "
      ],
      "text/plain": [
       "<IPython.core.display.HTML object>"
      ]
     },
     "metadata": {},
     "output_type": "display_data"
    },
    {
     "name": "stdout",
     "output_type": "stream",
     "text": [
      "\n",
      "*** Feature extraction finished ***\n",
      "*** Feature extraction started ***\n"
     ]
    },
    {
     "data": {
      "text/html": [
       "\n",
       "              <p>\n",
       "                  Progress: 100% Complete\n",
       "              <p/>\n",
       "              <progress\n",
       "                  value='67'\n",
       "                  max='67',\n",
       "                  style='width: 25%',\n",
       "              >\n",
       "                  67\n",
       "              </progress>\n",
       "\n",
       "    "
      ],
      "text/plain": [
       "<IPython.core.display.HTML object>"
      ]
     },
     "metadata": {},
     "output_type": "display_data"
    },
    {
     "name": "stdout",
     "output_type": "stream",
     "text": [
      "\n",
      "*** Feature extraction finished ***\n",
      "*** Feature extraction started ***\n"
     ]
    },
    {
     "data": {
      "text/html": [
       "\n",
       "              <p>\n",
       "                  Progress: 100% Complete\n",
       "              <p/>\n",
       "              <progress\n",
       "                  value='67'\n",
       "                  max='67',\n",
       "                  style='width: 25%',\n",
       "              >\n",
       "                  67\n",
       "              </progress>\n",
       "\n",
       "    "
      ],
      "text/plain": [
       "<IPython.core.display.HTML object>"
      ]
     },
     "metadata": {},
     "output_type": "display_data"
    },
    {
     "name": "stdout",
     "output_type": "stream",
     "text": [
      "\n",
      "*** Feature extraction finished ***\n",
      "*** Feature extraction started ***\n"
     ]
    },
    {
     "data": {
      "text/html": [
       "\n",
       "              <p>\n",
       "                  Progress: 100% Complete\n",
       "              <p/>\n",
       "              <progress\n",
       "                  value='67'\n",
       "                  max='67',\n",
       "                  style='width: 25%',\n",
       "              >\n",
       "                  67\n",
       "              </progress>\n",
       "\n",
       "    "
      ],
      "text/plain": [
       "<IPython.core.display.HTML object>"
      ]
     },
     "metadata": {},
     "output_type": "display_data"
    },
    {
     "name": "stdout",
     "output_type": "stream",
     "text": [
      "\n",
      "*** Feature extraction finished ***\n",
      "*** Feature extraction started ***\n"
     ]
    },
    {
     "data": {
      "text/html": [
       "\n",
       "              <p>\n",
       "                  Progress: 100% Complete\n",
       "              <p/>\n",
       "              <progress\n",
       "                  value='67'\n",
       "                  max='67',\n",
       "                  style='width: 25%',\n",
       "              >\n",
       "                  67\n",
       "              </progress>\n",
       "\n",
       "    "
      ],
      "text/plain": [
       "<IPython.core.display.HTML object>"
      ]
     },
     "metadata": {},
     "output_type": "display_data"
    },
    {
     "name": "stdout",
     "output_type": "stream",
     "text": [
      "\n",
      "*** Feature extraction finished ***\n",
      "*** Feature extraction started ***\n"
     ]
    },
    {
     "data": {
      "text/html": [
       "\n",
       "              <p>\n",
       "                  Progress: 100% Complete\n",
       "              <p/>\n",
       "              <progress\n",
       "                  value='67'\n",
       "                  max='67',\n",
       "                  style='width: 25%',\n",
       "              >\n",
       "                  67\n",
       "              </progress>\n",
       "\n",
       "    "
      ],
      "text/plain": [
       "<IPython.core.display.HTML object>"
      ]
     },
     "metadata": {},
     "output_type": "display_data"
    },
    {
     "name": "stdout",
     "output_type": "stream",
     "text": [
      "\n",
      "*** Feature extraction finished ***\n",
      "*** Feature extraction started ***\n"
     ]
    },
    {
     "data": {
      "text/html": [
       "\n",
       "              <p>\n",
       "                  Progress: 100% Complete\n",
       "              <p/>\n",
       "              <progress\n",
       "                  value='67'\n",
       "                  max='67',\n",
       "                  style='width: 25%',\n",
       "              >\n",
       "                  67\n",
       "              </progress>\n",
       "\n",
       "    "
      ],
      "text/plain": [
       "<IPython.core.display.HTML object>"
      ]
     },
     "metadata": {},
     "output_type": "display_data"
    },
    {
     "name": "stdout",
     "output_type": "stream",
     "text": [
      "\n",
      "*** Feature extraction finished ***\n",
      "*** Feature extraction started ***\n"
     ]
    },
    {
     "data": {
      "text/html": [
       "\n",
       "              <p>\n",
       "                  Progress: 100% Complete\n",
       "              <p/>\n",
       "              <progress\n",
       "                  value='67'\n",
       "                  max='67',\n",
       "                  style='width: 25%',\n",
       "              >\n",
       "                  67\n",
       "              </progress>\n",
       "\n",
       "    "
      ],
      "text/plain": [
       "<IPython.core.display.HTML object>"
      ]
     },
     "metadata": {},
     "output_type": "display_data"
    },
    {
     "name": "stdout",
     "output_type": "stream",
     "text": [
      "\n",
      "*** Feature extraction finished ***\n",
      "*** Feature extraction started ***\n"
     ]
    },
    {
     "data": {
      "text/html": [
       "\n",
       "              <p>\n",
       "                  Progress: 100% Complete\n",
       "              <p/>\n",
       "              <progress\n",
       "                  value='67'\n",
       "                  max='67',\n",
       "                  style='width: 25%',\n",
       "              >\n",
       "                  67\n",
       "              </progress>\n",
       "\n",
       "    "
      ],
      "text/plain": [
       "<IPython.core.display.HTML object>"
      ]
     },
     "metadata": {},
     "output_type": "display_data"
    },
    {
     "name": "stdout",
     "output_type": "stream",
     "text": [
      "\n",
      "*** Feature extraction finished ***\n",
      "*** Feature extraction started ***\n"
     ]
    },
    {
     "data": {
      "text/html": [
       "\n",
       "              <p>\n",
       "                  Progress: 100% Complete\n",
       "              <p/>\n",
       "              <progress\n",
       "                  value='67'\n",
       "                  max='67',\n",
       "                  style='width: 25%',\n",
       "              >\n",
       "                  67\n",
       "              </progress>\n",
       "\n",
       "    "
      ],
      "text/plain": [
       "<IPython.core.display.HTML object>"
      ]
     },
     "metadata": {},
     "output_type": "display_data"
    },
    {
     "name": "stdout",
     "output_type": "stream",
     "text": [
      "\n",
      "*** Feature extraction finished ***\n",
      "*** Feature extraction started ***\n"
     ]
    },
    {
     "data": {
      "text/html": [
       "\n",
       "              <p>\n",
       "                  Progress: 100% Complete\n",
       "              <p/>\n",
       "              <progress\n",
       "                  value='67'\n",
       "                  max='67',\n",
       "                  style='width: 25%',\n",
       "              >\n",
       "                  67\n",
       "              </progress>\n",
       "\n",
       "    "
      ],
      "text/plain": [
       "<IPython.core.display.HTML object>"
      ]
     },
     "metadata": {},
     "output_type": "display_data"
    },
    {
     "name": "stdout",
     "output_type": "stream",
     "text": [
      "\n",
      "*** Feature extraction finished ***\n",
      "*** Feature extraction started ***\n"
     ]
    },
    {
     "data": {
      "text/html": [
       "\n",
       "              <p>\n",
       "                  Progress: 100% Complete\n",
       "              <p/>\n",
       "              <progress\n",
       "                  value='67'\n",
       "                  max='67',\n",
       "                  style='width: 25%',\n",
       "              >\n",
       "                  67\n",
       "              </progress>\n",
       "\n",
       "    "
      ],
      "text/plain": [
       "<IPython.core.display.HTML object>"
      ]
     },
     "metadata": {},
     "output_type": "display_data"
    },
    {
     "name": "stdout",
     "output_type": "stream",
     "text": [
      "\n",
      "*** Feature extraction finished ***\n",
      "*** Feature extraction started ***\n"
     ]
    },
    {
     "data": {
      "text/html": [
       "\n",
       "              <p>\n",
       "                  Progress: 100% Complete\n",
       "              <p/>\n",
       "              <progress\n",
       "                  value='67'\n",
       "                  max='67',\n",
       "                  style='width: 25%',\n",
       "              >\n",
       "                  67\n",
       "              </progress>\n",
       "\n",
       "    "
      ],
      "text/plain": [
       "<IPython.core.display.HTML object>"
      ]
     },
     "metadata": {},
     "output_type": "display_data"
    },
    {
     "name": "stdout",
     "output_type": "stream",
     "text": [
      "\n",
      "*** Feature extraction finished ***\n",
      "*** Feature extraction started ***\n"
     ]
    },
    {
     "data": {
      "text/html": [
       "\n",
       "              <p>\n",
       "                  Progress: 100% Complete\n",
       "              <p/>\n",
       "              <progress\n",
       "                  value='67'\n",
       "                  max='67',\n",
       "                  style='width: 25%',\n",
       "              >\n",
       "                  67\n",
       "              </progress>\n",
       "\n",
       "    "
      ],
      "text/plain": [
       "<IPython.core.display.HTML object>"
      ]
     },
     "metadata": {},
     "output_type": "display_data"
    },
    {
     "name": "stdout",
     "output_type": "stream",
     "text": [
      "\n",
      "*** Feature extraction finished ***\n",
      "*** Feature extraction started ***\n"
     ]
    },
    {
     "data": {
      "text/html": [
       "\n",
       "              <p>\n",
       "                  Progress: 100% Complete\n",
       "              <p/>\n",
       "              <progress\n",
       "                  value='67'\n",
       "                  max='67',\n",
       "                  style='width: 25%',\n",
       "              >\n",
       "                  67\n",
       "              </progress>\n",
       "\n",
       "    "
      ],
      "text/plain": [
       "<IPython.core.display.HTML object>"
      ]
     },
     "metadata": {},
     "output_type": "display_data"
    },
    {
     "name": "stdout",
     "output_type": "stream",
     "text": [
      "\n",
      "*** Feature extraction finished ***\n",
      "*** Feature extraction started ***\n"
     ]
    },
    {
     "data": {
      "text/html": [
       "\n",
       "              <p>\n",
       "                  Progress: 100% Complete\n",
       "              <p/>\n",
       "              <progress\n",
       "                  value='67'\n",
       "                  max='67',\n",
       "                  style='width: 25%',\n",
       "              >\n",
       "                  67\n",
       "              </progress>\n",
       "\n",
       "    "
      ],
      "text/plain": [
       "<IPython.core.display.HTML object>"
      ]
     },
     "metadata": {},
     "output_type": "display_data"
    },
    {
     "name": "stdout",
     "output_type": "stream",
     "text": [
      "\n",
      "*** Feature extraction finished ***\n",
      "*** Feature extraction started ***\n"
     ]
    },
    {
     "data": {
      "text/html": [
       "\n",
       "              <p>\n",
       "                  Progress: 100% Complete\n",
       "              <p/>\n",
       "              <progress\n",
       "                  value='67'\n",
       "                  max='67',\n",
       "                  style='width: 25%',\n",
       "              >\n",
       "                  67\n",
       "              </progress>\n",
       "\n",
       "    "
      ],
      "text/plain": [
       "<IPython.core.display.HTML object>"
      ]
     },
     "metadata": {},
     "output_type": "display_data"
    },
    {
     "name": "stdout",
     "output_type": "stream",
     "text": [
      "\n",
      "*** Feature extraction finished ***\n",
      "*** Feature extraction started ***\n"
     ]
    },
    {
     "data": {
      "text/html": [
       "\n",
       "              <p>\n",
       "                  Progress: 100% Complete\n",
       "              <p/>\n",
       "              <progress\n",
       "                  value='67'\n",
       "                  max='67',\n",
       "                  style='width: 25%',\n",
       "              >\n",
       "                  67\n",
       "              </progress>\n",
       "\n",
       "    "
      ],
      "text/plain": [
       "<IPython.core.display.HTML object>"
      ]
     },
     "metadata": {},
     "output_type": "display_data"
    },
    {
     "name": "stdout",
     "output_type": "stream",
     "text": [
      "\n",
      "*** Feature extraction finished ***\n",
      "*** Feature extraction started ***\n"
     ]
    },
    {
     "data": {
      "text/html": [
       "\n",
       "              <p>\n",
       "                  Progress: 100% Complete\n",
       "              <p/>\n",
       "              <progress\n",
       "                  value='67'\n",
       "                  max='67',\n",
       "                  style='width: 25%',\n",
       "              >\n",
       "                  67\n",
       "              </progress>\n",
       "\n",
       "    "
      ],
      "text/plain": [
       "<IPython.core.display.HTML object>"
      ]
     },
     "metadata": {},
     "output_type": "display_data"
    },
    {
     "name": "stdout",
     "output_type": "stream",
     "text": [
      "\n",
      "*** Feature extraction finished ***\n",
      "*** Feature extraction started ***\n"
     ]
    },
    {
     "data": {
      "text/html": [
       "\n",
       "              <p>\n",
       "                  Progress: 100% Complete\n",
       "              <p/>\n",
       "              <progress\n",
       "                  value='67'\n",
       "                  max='67',\n",
       "                  style='width: 25%',\n",
       "              >\n",
       "                  67\n",
       "              </progress>\n",
       "\n",
       "    "
      ],
      "text/plain": [
       "<IPython.core.display.HTML object>"
      ]
     },
     "metadata": {},
     "output_type": "display_data"
    },
    {
     "name": "stdout",
     "output_type": "stream",
     "text": [
      "\n",
      "*** Feature extraction finished ***\n",
      "*** Feature extraction started ***\n"
     ]
    },
    {
     "data": {
      "text/html": [
       "\n",
       "              <p>\n",
       "                  Progress: 100% Complete\n",
       "              <p/>\n",
       "              <progress\n",
       "                  value='67'\n",
       "                  max='67',\n",
       "                  style='width: 25%',\n",
       "              >\n",
       "                  67\n",
       "              </progress>\n",
       "\n",
       "    "
      ],
      "text/plain": [
       "<IPython.core.display.HTML object>"
      ]
     },
     "metadata": {},
     "output_type": "display_data"
    },
    {
     "name": "stdout",
     "output_type": "stream",
     "text": [
      "\n",
      "*** Feature extraction finished ***\n",
      "*** Feature extraction started ***\n"
     ]
    },
    {
     "data": {
      "text/html": [
       "\n",
       "              <p>\n",
       "                  Progress: 100% Complete\n",
       "              <p/>\n",
       "              <progress\n",
       "                  value='67'\n",
       "                  max='67',\n",
       "                  style='width: 25%',\n",
       "              >\n",
       "                  67\n",
       "              </progress>\n",
       "\n",
       "    "
      ],
      "text/plain": [
       "<IPython.core.display.HTML object>"
      ]
     },
     "metadata": {},
     "output_type": "display_data"
    },
    {
     "name": "stdout",
     "output_type": "stream",
     "text": [
      "\n",
      "*** Feature extraction finished ***\n",
      "*** Feature extraction started ***\n"
     ]
    },
    {
     "data": {
      "text/html": [
       "\n",
       "              <p>\n",
       "                  Progress: 100% Complete\n",
       "              <p/>\n",
       "              <progress\n",
       "                  value='67'\n",
       "                  max='67',\n",
       "                  style='width: 25%',\n",
       "              >\n",
       "                  67\n",
       "              </progress>\n",
       "\n",
       "    "
      ],
      "text/plain": [
       "<IPython.core.display.HTML object>"
      ]
     },
     "metadata": {},
     "output_type": "display_data"
    },
    {
     "name": "stdout",
     "output_type": "stream",
     "text": [
      "\n",
      "*** Feature extraction finished ***\n",
      "*** Feature extraction started ***\n"
     ]
    },
    {
     "data": {
      "text/html": [
       "\n",
       "              <p>\n",
       "                  Progress: 100% Complete\n",
       "              <p/>\n",
       "              <progress\n",
       "                  value='67'\n",
       "                  max='67',\n",
       "                  style='width: 25%',\n",
       "              >\n",
       "                  67\n",
       "              </progress>\n",
       "\n",
       "    "
      ],
      "text/plain": [
       "<IPython.core.display.HTML object>"
      ]
     },
     "metadata": {},
     "output_type": "display_data"
    },
    {
     "name": "stdout",
     "output_type": "stream",
     "text": [
      "\n",
      "*** Feature extraction finished ***\n"
     ]
    }
   ],
   "source": [
    "import os\n",
    "import pandas as pd\n",
    "import tsfel\n",
    "from pathlib import Path\n",
    "\n",
    "base_dir = 'processed_dataset/Train'\n",
    "output_base_dir = 'TSFEL_dataset/Train'\n",
    "\n",
    "activities = ['LAYING', 'SITTING', 'STANDING', 'WALKING', 'WALKING_UPSTAIRS', 'WALKING_DOWNSTAIRS']\n",
    "\n",
    "for activity in activities:\n",
    "    activity_dir = os.path.join(base_dir, activity)\n",
    "    output_activity_dir = os.path.join(output_base_dir, activity)\n",
    "    Path(output_activity_dir).mkdir(parents=True, exist_ok=True)\n",
    "    subject_files = [f for f in os.listdir(activity_dir) if f.endswith('.csv')]\n",
    "    for file in subject_files:\n",
    "        file_path = os.path.join(activity_dir, file)\n",
    "        df = pd.read_csv(file_path).iloc[:, :]\n",
    "        cfg = tsfel.get_features_by_domain() \n",
    "        # print(cfg)\n",
    "        for domain in cfg:\n",
    "            for feature in cfg[domain]:\n",
    "                cfg[domain][feature]['use'] = 'yes' # use all features, even ones disabled by default\n",
    "\n",
    "        features = tsfel.time_series_features_extractor(cfg, df, fs=50) # sampling rate 50 Hz\n",
    "        subject_id = file.split('.')[0]\n",
    "        output_file = os.path.join(output_activity_dir, f'{subject_id}.csv')\n",
    "        features.to_csv(output_file, index=False)\n"
   ]
  }
 ],
 "metadata": {
  "kernelspec": {
   "display_name": "Python 3",
   "language": "python",
   "name": "python3"
  },
  "language_info": {
   "codemirror_mode": {
    "name": "ipython",
    "version": 3
   },
   "file_extension": ".py",
   "mimetype": "text/x-python",
   "name": "python",
   "nbconvert_exporter": "python",
   "pygments_lexer": "ipython3",
   "version": "3.11.1"
  }
 },
 "nbformat": 4,
 "nbformat_minor": 2
}
